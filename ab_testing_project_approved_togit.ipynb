{
 "cells": [
  {
   "cell_type": "markdown",
   "metadata": {},
   "source": [
    "# Making Business Decisions Based on Data PROJECT"
   ]
  },
  {
   "cell_type": "markdown",
   "metadata": {},
   "source": [
    "## introduction\n",
    "\n",
    "the goal of the project-\n",
    "as an analyst in a big on-line shop we together with marketing are trying tocheck out a few hypothesis and then carry out an A/B test \n",
    "\n",
    "in this project we will prioritize hypothesis by ICE and RICE and will take a A/B test and analyze the results and at last give a decision if to stop or continue the test.\n",
    "\n",
    "we will start downloading the data sets and studying it and then carrying out the test and analyze it"
   ]
  },
  {
   "cell_type": "markdown",
   "metadata": {},
   "source": [
    "## part 1 Prioritizing Hypotheses"
   ]
  },
  {
   "cell_type": "code",
   "execution_count": 2,
   "metadata": {},
   "outputs": [],
   "source": [
    "import pandas as pd\n",
    "import numpy as np\n",
    "from datetime import date\n",
    "import datetime as dt\n",
    "import matplotlib.pyplot as plt\n",
    "import scipy.stats as stats"
   ]
  },
  {
   "cell_type": "code",
   "execution_count": 3,
   "metadata": {},
   "outputs": [
    {
     "data": {
      "text/html": [
       "<div>\n",
       "<style scoped>\n",
       "    .dataframe tbody tr th:only-of-type {\n",
       "        vertical-align: middle;\n",
       "    }\n",
       "\n",
       "    .dataframe tbody tr th {\n",
       "        vertical-align: top;\n",
       "    }\n",
       "\n",
       "    .dataframe thead th {\n",
       "        text-align: right;\n",
       "    }\n",
       "</style>\n",
       "<table border=\"1\" class=\"dataframe\">\n",
       "  <thead>\n",
       "    <tr style=\"text-align: right;\">\n",
       "      <th></th>\n",
       "      <th>Hypothesis</th>\n",
       "      <th>Reach</th>\n",
       "      <th>Impact</th>\n",
       "      <th>Confidence</th>\n",
       "      <th>Effort</th>\n",
       "    </tr>\n",
       "  </thead>\n",
       "  <tbody>\n",
       "    <tr>\n",
       "      <th>0</th>\n",
       "      <td>Add two new channels for attracting traffic. T...</td>\n",
       "      <td>3</td>\n",
       "      <td>10</td>\n",
       "      <td>8</td>\n",
       "      <td>6</td>\n",
       "    </tr>\n",
       "    <tr>\n",
       "      <th>1</th>\n",
       "      <td>Launch your own delivery service. This will sh...</td>\n",
       "      <td>2</td>\n",
       "      <td>5</td>\n",
       "      <td>4</td>\n",
       "      <td>10</td>\n",
       "    </tr>\n",
       "    <tr>\n",
       "      <th>2</th>\n",
       "      <td>Add product recommendation blocks to the store...</td>\n",
       "      <td>8</td>\n",
       "      <td>3</td>\n",
       "      <td>7</td>\n",
       "      <td>3</td>\n",
       "    </tr>\n",
       "    <tr>\n",
       "      <th>3</th>\n",
       "      <td>Change the category structure. This will incre...</td>\n",
       "      <td>8</td>\n",
       "      <td>3</td>\n",
       "      <td>3</td>\n",
       "      <td>8</td>\n",
       "    </tr>\n",
       "    <tr>\n",
       "      <th>4</th>\n",
       "      <td>Change the background color on the main page. ...</td>\n",
       "      <td>3</td>\n",
       "      <td>1</td>\n",
       "      <td>1</td>\n",
       "      <td>1</td>\n",
       "    </tr>\n",
       "    <tr>\n",
       "      <th>5</th>\n",
       "      <td>Add a customer review page. This will increase...</td>\n",
       "      <td>3</td>\n",
       "      <td>2</td>\n",
       "      <td>2</td>\n",
       "      <td>3</td>\n",
       "    </tr>\n",
       "    <tr>\n",
       "      <th>6</th>\n",
       "      <td>Show banners with current offers and sales on ...</td>\n",
       "      <td>5</td>\n",
       "      <td>3</td>\n",
       "      <td>8</td>\n",
       "      <td>3</td>\n",
       "    </tr>\n",
       "    <tr>\n",
       "      <th>7</th>\n",
       "      <td>Add a subscription form to all the main pages....</td>\n",
       "      <td>10</td>\n",
       "      <td>7</td>\n",
       "      <td>8</td>\n",
       "      <td>5</td>\n",
       "    </tr>\n",
       "    <tr>\n",
       "      <th>8</th>\n",
       "      <td>Launch a promotion that gives users discounts ...</td>\n",
       "      <td>1</td>\n",
       "      <td>9</td>\n",
       "      <td>9</td>\n",
       "      <td>5</td>\n",
       "    </tr>\n",
       "  </tbody>\n",
       "</table>\n",
       "</div>"
      ],
      "text/plain": [
       "                                          Hypothesis  Reach  Impact  \\\n",
       "0  Add two new channels for attracting traffic. T...      3      10   \n",
       "1  Launch your own delivery service. This will sh...      2       5   \n",
       "2  Add product recommendation blocks to the store...      8       3   \n",
       "3  Change the category structure. This will incre...      8       3   \n",
       "4  Change the background color on the main page. ...      3       1   \n",
       "5  Add a customer review page. This will increase...      3       2   \n",
       "6  Show banners with current offers and sales on ...      5       3   \n",
       "7  Add a subscription form to all the main pages....     10       7   \n",
       "8  Launch a promotion that gives users discounts ...      1       9   \n",
       "\n",
       "   Confidence  Effort  \n",
       "0           8       6  \n",
       "1           4      10  \n",
       "2           7       3  \n",
       "3           3       8  \n",
       "4           1       1  \n",
       "5           2       3  \n",
       "6           8       3  \n",
       "7           8       5  \n",
       "8           9       5  "
      ]
     },
     "execution_count": 3,
     "metadata": {},
     "output_type": "execute_result"
    }
   ],
   "source": [
    "hypo = pd.read_csv('/datasets/hypotheses_us.csv',sep=';')\n",
    "hypo\n"
   ]
  },
  {
   "cell_type": "code",
   "execution_count": 4,
   "metadata": {},
   "outputs": [
    {
     "name": "stdout",
     "output_type": "stream",
     "text": [
      "<class 'pandas.core.frame.DataFrame'>\n",
      "RangeIndex: 9 entries, 0 to 8\n",
      "Data columns (total 5 columns):\n",
      " #   Column      Non-Null Count  Dtype \n",
      "---  ------      --------------  ----- \n",
      " 0   Hypothesis  9 non-null      object\n",
      " 1   Reach       9 non-null      int64 \n",
      " 2   Impact      9 non-null      int64 \n",
      " 3   Confidence  9 non-null      int64 \n",
      " 4   Effort      9 non-null      int64 \n",
      "dtypes: int64(4), object(1)\n",
      "memory usage: 488.0+ bytes\n"
     ]
    }
   ],
   "source": [
    "hypo.info()"
   ]
  },
  {
   "cell_type": "code",
   "execution_count": 5,
   "metadata": {},
   "outputs": [
    {
     "data": {
      "text/plain": [
       "Hypothesis    0\n",
       "Reach         0\n",
       "Impact        0\n",
       "Confidence    0\n",
       "Effort        0\n",
       "dtype: int64"
      ]
     },
     "execution_count": 5,
     "metadata": {},
     "output_type": "execute_result"
    }
   ],
   "source": [
    "hypo.isnull().sum()"
   ]
  },
  {
   "cell_type": "markdown",
   "metadata": {},
   "source": [
    "we downloaded the data and check there are no missing values and it looks o.k. so we can start with the ICE and RICE calculations  "
   ]
  },
  {
   "cell_type": "code",
   "execution_count": 6,
   "metadata": {},
   "outputs": [
    {
     "data": {
      "text/html": [
       "<div>\n",
       "<style scoped>\n",
       "    .dataframe tbody tr th:only-of-type {\n",
       "        vertical-align: middle;\n",
       "    }\n",
       "\n",
       "    .dataframe tbody tr th {\n",
       "        vertical-align: top;\n",
       "    }\n",
       "\n",
       "    .dataframe thead th {\n",
       "        text-align: right;\n",
       "    }\n",
       "</style>\n",
       "<table border=\"1\" class=\"dataframe\">\n",
       "  <thead>\n",
       "    <tr style=\"text-align: right;\">\n",
       "      <th></th>\n",
       "      <th>Hypothesis</th>\n",
       "      <th>Reach</th>\n",
       "      <th>Impact</th>\n",
       "      <th>Confidence</th>\n",
       "      <th>Effort</th>\n",
       "      <th>ICE</th>\n",
       "    </tr>\n",
       "  </thead>\n",
       "  <tbody>\n",
       "    <tr>\n",
       "      <th>8</th>\n",
       "      <td>Launch a promotion that gives users discounts ...</td>\n",
       "      <td>1</td>\n",
       "      <td>9</td>\n",
       "      <td>9</td>\n",
       "      <td>5</td>\n",
       "      <td>16.200000</td>\n",
       "    </tr>\n",
       "    <tr>\n",
       "      <th>0</th>\n",
       "      <td>Add two new channels for attracting traffic. T...</td>\n",
       "      <td>3</td>\n",
       "      <td>10</td>\n",
       "      <td>8</td>\n",
       "      <td>6</td>\n",
       "      <td>13.333333</td>\n",
       "    </tr>\n",
       "    <tr>\n",
       "      <th>7</th>\n",
       "      <td>Add a subscription form to all the main pages....</td>\n",
       "      <td>10</td>\n",
       "      <td>7</td>\n",
       "      <td>8</td>\n",
       "      <td>5</td>\n",
       "      <td>11.200000</td>\n",
       "    </tr>\n",
       "    <tr>\n",
       "      <th>6</th>\n",
       "      <td>Show banners with current offers and sales on ...</td>\n",
       "      <td>5</td>\n",
       "      <td>3</td>\n",
       "      <td>8</td>\n",
       "      <td>3</td>\n",
       "      <td>8.000000</td>\n",
       "    </tr>\n",
       "    <tr>\n",
       "      <th>2</th>\n",
       "      <td>Add product recommendation blocks to the store...</td>\n",
       "      <td>8</td>\n",
       "      <td>3</td>\n",
       "      <td>7</td>\n",
       "      <td>3</td>\n",
       "      <td>7.000000</td>\n",
       "    </tr>\n",
       "    <tr>\n",
       "      <th>1</th>\n",
       "      <td>Launch your own delivery service. This will sh...</td>\n",
       "      <td>2</td>\n",
       "      <td>5</td>\n",
       "      <td>4</td>\n",
       "      <td>10</td>\n",
       "      <td>2.000000</td>\n",
       "    </tr>\n",
       "    <tr>\n",
       "      <th>5</th>\n",
       "      <td>Add a customer review page. This will increase...</td>\n",
       "      <td>3</td>\n",
       "      <td>2</td>\n",
       "      <td>2</td>\n",
       "      <td>3</td>\n",
       "      <td>1.333333</td>\n",
       "    </tr>\n",
       "    <tr>\n",
       "      <th>3</th>\n",
       "      <td>Change the category structure. This will incre...</td>\n",
       "      <td>8</td>\n",
       "      <td>3</td>\n",
       "      <td>3</td>\n",
       "      <td>8</td>\n",
       "      <td>1.125000</td>\n",
       "    </tr>\n",
       "    <tr>\n",
       "      <th>4</th>\n",
       "      <td>Change the background color on the main page. ...</td>\n",
       "      <td>3</td>\n",
       "      <td>1</td>\n",
       "      <td>1</td>\n",
       "      <td>1</td>\n",
       "      <td>1.000000</td>\n",
       "    </tr>\n",
       "  </tbody>\n",
       "</table>\n",
       "</div>"
      ],
      "text/plain": [
       "                                          Hypothesis  Reach  Impact  \\\n",
       "8  Launch a promotion that gives users discounts ...      1       9   \n",
       "0  Add two new channels for attracting traffic. T...      3      10   \n",
       "7  Add a subscription form to all the main pages....     10       7   \n",
       "6  Show banners with current offers and sales on ...      5       3   \n",
       "2  Add product recommendation blocks to the store...      8       3   \n",
       "1  Launch your own delivery service. This will sh...      2       5   \n",
       "5  Add a customer review page. This will increase...      3       2   \n",
       "3  Change the category structure. This will incre...      8       3   \n",
       "4  Change the background color on the main page. ...      3       1   \n",
       "\n",
       "   Confidence  Effort        ICE  \n",
       "8           9       5  16.200000  \n",
       "0           8       6  13.333333  \n",
       "7           8       5  11.200000  \n",
       "6           8       3   8.000000  \n",
       "2           7       3   7.000000  \n",
       "1           4      10   2.000000  \n",
       "5           2       3   1.333333  \n",
       "3           3       8   1.125000  \n",
       "4           1       1   1.000000  "
      ]
     },
     "execution_count": 6,
     "metadata": {},
     "output_type": "execute_result"
    }
   ],
   "source": [
    "hypo['ICE']= (hypo['Impact']* hypo['Confidence']) / hypo['Effort']\n",
    "hypo.sort_values(by='ICE', ascending=False)"
   ]
  },
  {
   "cell_type": "markdown",
   "metadata": {},
   "source": [
    "we can see that the most rated hypothesis by the ICE calculate is the number 8 and it has a gap with number 0 and 7. now let us find the RICE and compare them"
   ]
  },
  {
   "cell_type": "code",
   "execution_count": 7,
   "metadata": {},
   "outputs": [
    {
     "data": {
      "text/html": [
       "<div>\n",
       "<style scoped>\n",
       "    .dataframe tbody tr th:only-of-type {\n",
       "        vertical-align: middle;\n",
       "    }\n",
       "\n",
       "    .dataframe tbody tr th {\n",
       "        vertical-align: top;\n",
       "    }\n",
       "\n",
       "    .dataframe thead th {\n",
       "        text-align: right;\n",
       "    }\n",
       "</style>\n",
       "<table border=\"1\" class=\"dataframe\">\n",
       "  <thead>\n",
       "    <tr style=\"text-align: right;\">\n",
       "      <th></th>\n",
       "      <th>Hypothesis</th>\n",
       "      <th>Reach</th>\n",
       "      <th>Impact</th>\n",
       "      <th>Confidence</th>\n",
       "      <th>Effort</th>\n",
       "      <th>ICE</th>\n",
       "      <th>RICE</th>\n",
       "    </tr>\n",
       "  </thead>\n",
       "  <tbody>\n",
       "    <tr>\n",
       "      <th>7</th>\n",
       "      <td>Add a subscription form to all the main pages....</td>\n",
       "      <td>10</td>\n",
       "      <td>7</td>\n",
       "      <td>8</td>\n",
       "      <td>5</td>\n",
       "      <td>11.200000</td>\n",
       "      <td>112.0</td>\n",
       "    </tr>\n",
       "    <tr>\n",
       "      <th>2</th>\n",
       "      <td>Add product recommendation blocks to the store...</td>\n",
       "      <td>8</td>\n",
       "      <td>3</td>\n",
       "      <td>7</td>\n",
       "      <td>3</td>\n",
       "      <td>7.000000</td>\n",
       "      <td>56.0</td>\n",
       "    </tr>\n",
       "    <tr>\n",
       "      <th>0</th>\n",
       "      <td>Add two new channels for attracting traffic. T...</td>\n",
       "      <td>3</td>\n",
       "      <td>10</td>\n",
       "      <td>8</td>\n",
       "      <td>6</td>\n",
       "      <td>13.333333</td>\n",
       "      <td>40.0</td>\n",
       "    </tr>\n",
       "    <tr>\n",
       "      <th>6</th>\n",
       "      <td>Show banners with current offers and sales on ...</td>\n",
       "      <td>5</td>\n",
       "      <td>3</td>\n",
       "      <td>8</td>\n",
       "      <td>3</td>\n",
       "      <td>8.000000</td>\n",
       "      <td>40.0</td>\n",
       "    </tr>\n",
       "    <tr>\n",
       "      <th>8</th>\n",
       "      <td>Launch a promotion that gives users discounts ...</td>\n",
       "      <td>1</td>\n",
       "      <td>9</td>\n",
       "      <td>9</td>\n",
       "      <td>5</td>\n",
       "      <td>16.200000</td>\n",
       "      <td>16.2</td>\n",
       "    </tr>\n",
       "    <tr>\n",
       "      <th>3</th>\n",
       "      <td>Change the category structure. This will incre...</td>\n",
       "      <td>8</td>\n",
       "      <td>3</td>\n",
       "      <td>3</td>\n",
       "      <td>8</td>\n",
       "      <td>1.125000</td>\n",
       "      <td>9.0</td>\n",
       "    </tr>\n",
       "    <tr>\n",
       "      <th>1</th>\n",
       "      <td>Launch your own delivery service. This will sh...</td>\n",
       "      <td>2</td>\n",
       "      <td>5</td>\n",
       "      <td>4</td>\n",
       "      <td>10</td>\n",
       "      <td>2.000000</td>\n",
       "      <td>4.0</td>\n",
       "    </tr>\n",
       "    <tr>\n",
       "      <th>5</th>\n",
       "      <td>Add a customer review page. This will increase...</td>\n",
       "      <td>3</td>\n",
       "      <td>2</td>\n",
       "      <td>2</td>\n",
       "      <td>3</td>\n",
       "      <td>1.333333</td>\n",
       "      <td>4.0</td>\n",
       "    </tr>\n",
       "    <tr>\n",
       "      <th>4</th>\n",
       "      <td>Change the background color on the main page. ...</td>\n",
       "      <td>3</td>\n",
       "      <td>1</td>\n",
       "      <td>1</td>\n",
       "      <td>1</td>\n",
       "      <td>1.000000</td>\n",
       "      <td>3.0</td>\n",
       "    </tr>\n",
       "  </tbody>\n",
       "</table>\n",
       "</div>"
      ],
      "text/plain": [
       "                                          Hypothesis  Reach  Impact  \\\n",
       "7  Add a subscription form to all the main pages....     10       7   \n",
       "2  Add product recommendation blocks to the store...      8       3   \n",
       "0  Add two new channels for attracting traffic. T...      3      10   \n",
       "6  Show banners with current offers and sales on ...      5       3   \n",
       "8  Launch a promotion that gives users discounts ...      1       9   \n",
       "3  Change the category structure. This will incre...      8       3   \n",
       "1  Launch your own delivery service. This will sh...      2       5   \n",
       "5  Add a customer review page. This will increase...      3       2   \n",
       "4  Change the background color on the main page. ...      3       1   \n",
       "\n",
       "   Confidence  Effort        ICE   RICE  \n",
       "7           8       5  11.200000  112.0  \n",
       "2           7       3   7.000000   56.0  \n",
       "0           8       6  13.333333   40.0  \n",
       "6           8       3   8.000000   40.0  \n",
       "8           9       5  16.200000   16.2  \n",
       "3           3       8   1.125000    9.0  \n",
       "1           4      10   2.000000    4.0  \n",
       "5           2       3   1.333333    4.0  \n",
       "4           1       1   1.000000    3.0  "
      ]
     },
     "execution_count": 7,
     "metadata": {},
     "output_type": "execute_result"
    }
   ],
   "source": [
    "hypo['RICE']= (hypo['Reach']* hypo['Impact']* hypo['Confidence']) / hypo['Effort']\n",
    "hypo.sort_values(by='RICE', ascending=False)"
   ]
  },
  {
   "cell_type": "markdown",
   "metadata": {},
   "source": [
    "from the RICE priority  we see that hypothesis number 7 is way high prioritzed from the others. after that  we have 2 and 0. we see that 7 and 0 are both in the top 3 hypothesis. \n",
    "\n",
    "the diffrence between the ICE and RICE is that the ICE  takes the impact the change we make and the confidence it will work and divide it by the effort it will take to test this hypothesis.\n",
    "the RICE thakes in mind the impact of the change, the confidence it will work and the reach that means how many users will be affected immediately from the change and devide it all by the effort it takes to test it. \n",
    "there is a diffrence between them but i think the RICE method is better to use since it takes in mind more parameters so it is more accurate. \n",
    "in our hypothesis list number 7 is on top of both metrics so we should test it out first"
   ]
  },
  {
   "cell_type": "markdown",
   "metadata": {},
   "source": [
    "##PART 2\n",
    "A/B Test Analysis"
   ]
  },
  {
   "cell_type": "code",
   "execution_count": 7,
   "metadata": {},
   "outputs": [],
   "source": [
    "orders= pd.read_csv('/datasets/orders_us.csv', sep=',')\n",
    "visits= pd.read_csv('/datasets/visits_us.csv', sep=',')\n"
   ]
  },
  {
   "cell_type": "code",
   "execution_count": 8,
   "metadata": {},
   "outputs": [],
   "source": [
    "orders['date'] = orders['date'].map(lambda x: dt.datetime.strptime(x, '%Y-%m-%d'))\n",
    "visits['date'] = visits['date'].map(lambda x: dt.datetime.strptime(x, '%Y-%m-%d'))"
   ]
  },
  {
   "cell_type": "code",
   "execution_count": 9,
   "metadata": {},
   "outputs": [
    {
     "data": {
      "text/html": [
       "<div>\n",
       "<style scoped>\n",
       "    .dataframe tbody tr th:only-of-type {\n",
       "        vertical-align: middle;\n",
       "    }\n",
       "\n",
       "    .dataframe tbody tr th {\n",
       "        vertical-align: top;\n",
       "    }\n",
       "\n",
       "    .dataframe thead th {\n",
       "        text-align: right;\n",
       "    }\n",
       "</style>\n",
       "<table border=\"1\" class=\"dataframe\">\n",
       "  <thead>\n",
       "    <tr style=\"text-align: right;\">\n",
       "      <th></th>\n",
       "      <th>transactionId</th>\n",
       "      <th>visitorId</th>\n",
       "      <th>date</th>\n",
       "      <th>revenue</th>\n",
       "      <th>group</th>\n",
       "    </tr>\n",
       "  </thead>\n",
       "  <tbody>\n",
       "    <tr>\n",
       "      <th>0</th>\n",
       "      <td>3667963787</td>\n",
       "      <td>3312258926</td>\n",
       "      <td>2019-08-15</td>\n",
       "      <td>30.4</td>\n",
       "      <td>B</td>\n",
       "    </tr>\n",
       "    <tr>\n",
       "      <th>1</th>\n",
       "      <td>2804400009</td>\n",
       "      <td>3642806036</td>\n",
       "      <td>2019-08-15</td>\n",
       "      <td>15.2</td>\n",
       "      <td>B</td>\n",
       "    </tr>\n",
       "    <tr>\n",
       "      <th>2</th>\n",
       "      <td>2961555356</td>\n",
       "      <td>4069496402</td>\n",
       "      <td>2019-08-15</td>\n",
       "      <td>10.2</td>\n",
       "      <td>A</td>\n",
       "    </tr>\n",
       "    <tr>\n",
       "      <th>3</th>\n",
       "      <td>3797467345</td>\n",
       "      <td>1196621759</td>\n",
       "      <td>2019-08-15</td>\n",
       "      <td>155.1</td>\n",
       "      <td>B</td>\n",
       "    </tr>\n",
       "    <tr>\n",
       "      <th>4</th>\n",
       "      <td>2282983706</td>\n",
       "      <td>2322279887</td>\n",
       "      <td>2019-08-15</td>\n",
       "      <td>40.5</td>\n",
       "      <td>B</td>\n",
       "    </tr>\n",
       "  </tbody>\n",
       "</table>\n",
       "</div>"
      ],
      "text/plain": [
       "   transactionId   visitorId       date  revenue group\n",
       "0     3667963787  3312258926 2019-08-15     30.4     B\n",
       "1     2804400009  3642806036 2019-08-15     15.2     B\n",
       "2     2961555356  4069496402 2019-08-15     10.2     A\n",
       "3     3797467345  1196621759 2019-08-15    155.1     B\n",
       "4     2282983706  2322279887 2019-08-15     40.5     B"
      ]
     },
     "execution_count": 9,
     "metadata": {},
     "output_type": "execute_result"
    }
   ],
   "source": [
    "orders.head()"
   ]
  },
  {
   "cell_type": "code",
   "execution_count": 10,
   "metadata": {},
   "outputs": [
    {
     "name": "stdout",
     "output_type": "stream",
     "text": [
      "<class 'pandas.core.frame.DataFrame'>\n",
      "RangeIndex: 1197 entries, 0 to 1196\n",
      "Data columns (total 5 columns):\n",
      " #   Column         Non-Null Count  Dtype         \n",
      "---  ------         --------------  -----         \n",
      " 0   transactionId  1197 non-null   int64         \n",
      " 1   visitorId      1197 non-null   int64         \n",
      " 2   date           1197 non-null   datetime64[ns]\n",
      " 3   revenue        1197 non-null   float64       \n",
      " 4   group          1197 non-null   object        \n",
      "dtypes: datetime64[ns](1), float64(1), int64(2), object(1)\n",
      "memory usage: 46.9+ KB\n"
     ]
    }
   ],
   "source": [
    "orders.info()"
   ]
  },
  {
   "cell_type": "code",
   "execution_count": 11,
   "metadata": {},
   "outputs": [
    {
     "data": {
      "text/plain": [
       "0"
      ]
     },
     "execution_count": 11,
     "metadata": {},
     "output_type": "execute_result"
    }
   ],
   "source": [
    "orders.duplicated().sum()"
   ]
  },
  {
   "cell_type": "markdown",
   "metadata": {},
   "source": [
    "we see that all rows are full up and the columns type are o.k. and there are no duplicates so we can start working with it"
   ]
  },
  {
   "cell_type": "code",
   "execution_count": 12,
   "metadata": {},
   "outputs": [
    {
     "data": {
      "text/html": [
       "<div>\n",
       "<style scoped>\n",
       "    .dataframe tbody tr th:only-of-type {\n",
       "        vertical-align: middle;\n",
       "    }\n",
       "\n",
       "    .dataframe tbody tr th {\n",
       "        vertical-align: top;\n",
       "    }\n",
       "\n",
       "    .dataframe thead th {\n",
       "        text-align: right;\n",
       "    }\n",
       "</style>\n",
       "<table border=\"1\" class=\"dataframe\">\n",
       "  <thead>\n",
       "    <tr style=\"text-align: right;\">\n",
       "      <th></th>\n",
       "      <th>date</th>\n",
       "      <th>group</th>\n",
       "      <th>visits</th>\n",
       "    </tr>\n",
       "  </thead>\n",
       "  <tbody>\n",
       "    <tr>\n",
       "      <th>0</th>\n",
       "      <td>2019-08-01</td>\n",
       "      <td>A</td>\n",
       "      <td>719</td>\n",
       "    </tr>\n",
       "    <tr>\n",
       "      <th>1</th>\n",
       "      <td>2019-08-02</td>\n",
       "      <td>A</td>\n",
       "      <td>619</td>\n",
       "    </tr>\n",
       "    <tr>\n",
       "      <th>2</th>\n",
       "      <td>2019-08-03</td>\n",
       "      <td>A</td>\n",
       "      <td>507</td>\n",
       "    </tr>\n",
       "    <tr>\n",
       "      <th>3</th>\n",
       "      <td>2019-08-04</td>\n",
       "      <td>A</td>\n",
       "      <td>717</td>\n",
       "    </tr>\n",
       "    <tr>\n",
       "      <th>4</th>\n",
       "      <td>2019-08-05</td>\n",
       "      <td>A</td>\n",
       "      <td>756</td>\n",
       "    </tr>\n",
       "  </tbody>\n",
       "</table>\n",
       "</div>"
      ],
      "text/plain": [
       "        date group  visits\n",
       "0 2019-08-01     A     719\n",
       "1 2019-08-02     A     619\n",
       "2 2019-08-03     A     507\n",
       "3 2019-08-04     A     717\n",
       "4 2019-08-05     A     756"
      ]
     },
     "execution_count": 12,
     "metadata": {},
     "output_type": "execute_result"
    }
   ],
   "source": [
    "visits.head()"
   ]
  },
  {
   "cell_type": "code",
   "execution_count": 13,
   "metadata": {},
   "outputs": [
    {
     "name": "stdout",
     "output_type": "stream",
     "text": [
      "<class 'pandas.core.frame.DataFrame'>\n",
      "RangeIndex: 62 entries, 0 to 61\n",
      "Data columns (total 3 columns):\n",
      " #   Column  Non-Null Count  Dtype         \n",
      "---  ------  --------------  -----         \n",
      " 0   date    62 non-null     datetime64[ns]\n",
      " 1   group   62 non-null     object        \n",
      " 2   visits  62 non-null     int64         \n",
      "dtypes: datetime64[ns](1), int64(1), object(1)\n",
      "memory usage: 1.6+ KB\n"
     ]
    }
   ],
   "source": [
    "visits.info()"
   ]
  },
  {
   "cell_type": "code",
   "execution_count": 14,
   "metadata": {},
   "outputs": [
    {
     "data": {
      "text/plain": [
       "date      0\n",
       "group     0\n",
       "visits    0\n",
       "dtype: int64"
      ]
     },
     "execution_count": 14,
     "metadata": {},
     "output_type": "execute_result"
    }
   ],
   "source": [
    "visits.isnull().sum()"
   ]
  },
  {
   "cell_type": "code",
   "execution_count": 15,
   "metadata": {},
   "outputs": [
    {
     "data": {
      "text/plain": [
       "0"
      ]
     },
     "execution_count": 15,
     "metadata": {},
     "output_type": "execute_result"
    }
   ],
   "source": [
    "visits.duplicated().sum()"
   ]
  },
  {
   "cell_type": "markdown",
   "metadata": {},
   "source": [
    "we can see that the visits table is o.k. with no missing rows or duplicates so now we can start analyzing our A/B test "
   ]
  },
  {
   "cell_type": "markdown",
   "metadata": {},
   "source": [
    "1. first we need to group the data to a pair group of date and the group the user belongs to and cut out duplicates and gather data that we can plot a graph with cumulative revenue data"
   ]
  },
  {
   "cell_type": "code",
   "execution_count": 16,
   "metadata": {},
   "outputs": [],
   "source": [
    "dg = orders[['date','group']].drop_duplicates()"
   ]
  },
  {
   "cell_type": "code",
   "execution_count": 17,
   "metadata": {},
   "outputs": [],
   "source": [
    "ordersagg = dg.apply(lambda x: orders[np.logical_and(orders['date'] <= x['date'], orders['group'] == x['group'])].agg({'date' : 'max', 'group' : 'max', 'transactionId' : pd.Series.nunique, 'visitorId' : pd.Series.nunique, 'revenue' : 'sum'}), axis=1).sort_values(by=['date','group'])"
   ]
  },
  {
   "cell_type": "code",
   "execution_count": 18,
   "metadata": {},
   "outputs": [],
   "source": [
    "visitsagg = dg.apply(lambda x: visits[np.logical_and(visits['date'] <= x['date'], visits['group'] == x['group'])].agg({'date' : 'max', 'group' : 'max', 'visits' : 'sum'}), axis=1).sort_values(by=['date','group'])"
   ]
  },
  {
   "cell_type": "code",
   "execution_count": 19,
   "metadata": {},
   "outputs": [
    {
     "data": {
      "text/html": [
       "<div>\n",
       "<style scoped>\n",
       "    .dataframe tbody tr th:only-of-type {\n",
       "        vertical-align: middle;\n",
       "    }\n",
       "\n",
       "    .dataframe tbody tr th {\n",
       "        vertical-align: top;\n",
       "    }\n",
       "\n",
       "    .dataframe thead th {\n",
       "        text-align: right;\n",
       "    }\n",
       "</style>\n",
       "<table border=\"1\" class=\"dataframe\">\n",
       "  <thead>\n",
       "    <tr style=\"text-align: right;\">\n",
       "      <th></th>\n",
       "      <th>date</th>\n",
       "      <th>group</th>\n",
       "      <th>transactionId</th>\n",
       "      <th>visitorId</th>\n",
       "      <th>revenue</th>\n",
       "      <th>visits</th>\n",
       "    </tr>\n",
       "  </thead>\n",
       "  <tbody>\n",
       "    <tr>\n",
       "      <th>0</th>\n",
       "      <td>2019-08-01</td>\n",
       "      <td>A</td>\n",
       "      <td>24</td>\n",
       "      <td>20</td>\n",
       "      <td>2356.8</td>\n",
       "      <td>719</td>\n",
       "    </tr>\n",
       "    <tr>\n",
       "      <th>1</th>\n",
       "      <td>2019-08-01</td>\n",
       "      <td>B</td>\n",
       "      <td>21</td>\n",
       "      <td>20</td>\n",
       "      <td>1620.0</td>\n",
       "      <td>713</td>\n",
       "    </tr>\n",
       "    <tr>\n",
       "      <th>2</th>\n",
       "      <td>2019-08-02</td>\n",
       "      <td>A</td>\n",
       "      <td>44</td>\n",
       "      <td>38</td>\n",
       "      <td>3860.3</td>\n",
       "      <td>1338</td>\n",
       "    </tr>\n",
       "    <tr>\n",
       "      <th>3</th>\n",
       "      <td>2019-08-02</td>\n",
       "      <td>B</td>\n",
       "      <td>45</td>\n",
       "      <td>43</td>\n",
       "      <td>4243.8</td>\n",
       "      <td>1294</td>\n",
       "    </tr>\n",
       "    <tr>\n",
       "      <th>4</th>\n",
       "      <td>2019-08-03</td>\n",
       "      <td>A</td>\n",
       "      <td>68</td>\n",
       "      <td>62</td>\n",
       "      <td>5675.5</td>\n",
       "      <td>1845</td>\n",
       "    </tr>\n",
       "  </tbody>\n",
       "</table>\n",
       "</div>"
      ],
      "text/plain": [
       "        date group  transactionId  visitorId  revenue  visits\n",
       "0 2019-08-01     A             24         20   2356.8     719\n",
       "1 2019-08-01     B             21         20   1620.0     713\n",
       "2 2019-08-02     A             44         38   3860.3    1338\n",
       "3 2019-08-02     B             45         43   4243.8    1294\n",
       "4 2019-08-03     A             68         62   5675.5    1845"
      ]
     },
     "execution_count": 19,
     "metadata": {},
     "output_type": "execute_result"
    }
   ],
   "source": [
    "cumd = ordersagg.merge(visitsagg, left_on=['date', 'group'], right_on=['date', 'group'])\n",
    "cumd.head()"
   ]
  },
  {
   "cell_type": "code",
   "execution_count": 20,
   "metadata": {},
   "outputs": [
    {
     "data": {
      "text/plain": [
       "<matplotlib.legend.Legend at 0x7f76119c7a00>"
      ]
     },
     "execution_count": 20,
     "metadata": {},
     "output_type": "execute_result"
    },
    {
     "data": {
      "image/png": "[encoded data removed]",
      "text/plain": [
       "<Figure size 1440x1080 with 1 Axes>"
      ]
     },
     "metadata": {
      "needs_background": "light"
     },
     "output_type": "display_data"
    }
   ],
   "source": [
    "cra = cumd[cumd['group']=='A'][['date','revenue', 'transactionId']]\n",
    "\n",
    "crb = cumd[cumd['group']=='B'][['date','revenue', 'transactionId']]\n",
    " \n",
    "plt.figure(figsize=(20,15))\n",
    "plt.title('cumulative revenue by group')\n",
    "plt.xlabel('date')\n",
    "plt.ylabel('revenue')\n",
    "plt.plot(cra['date'], cra['revenue'], label='A') \n",
    "plt.plot(crb['date'], crb['revenue'], label='B')\n",
    "plt.legend()"
   ]
  },
  {
   "cell_type": "markdown",
   "metadata": {},
   "source": [
    "we see that group b has a mouch better and higher revenue than group a especially after 2 weeks that it growth in a jump. we can maybe say that the time we satrted the change it effected the group but a few users needed more time to adjust to the change but after two weeks it proves itself. forthe two first weeks group a and b are almost the same so we need to carry on the test for at least 3 weeks"
   ]
  },
  {
   "cell_type": "markdown",
   "metadata": {},
   "source": [
    "2. now let us plot a graph to show the cumulative avrage order size and see if in this critiea there is a diffrence between a and b"
   ]
  },
  {
   "cell_type": "code",
   "execution_count": 21,
   "metadata": {},
   "outputs": [
    {
     "data": {
      "text/plain": [
       "<matplotlib.legend.Legend at 0x7f76119a75e0>"
      ]
     },
     "execution_count": 21,
     "metadata": {},
     "output_type": "execute_result"
    },
    {
     "data": {
      "image/png": "[encoded data removed]",
      "text/plain": [
       "<Figure size 1440x1080 with 1 Axes>"
      ]
     },
     "metadata": {
      "needs_background": "light"
     },
     "output_type": "display_data"
    }
   ],
   "source": [
    "plt.figure(figsize=(20,15))\n",
    "plt.title('cumulative average order size')\n",
    "plt.xlabel('date')\n",
    "plt.ylabel('avg order size')\n",
    "plt.plot(cra['date'], cra['revenue']/cra['transactionId'], label='A')\n",
    "plt.plot(crb['date'], crb['revenue']/crb['transactionId'], label='B')\n",
    "plt.legend()"
   ]
  },
  {
   "cell_type": "markdown",
   "metadata": {},
   "source": [
    "here we see that the b group has a growing and bigger order size than group a. this is very out standing day 17 and up because it is a very big diffrence.it could be because it is the end of summer brake or maybe the new addaption we are checking is a far well change "
   ]
  },
  {
   "cell_type": "markdown",
   "metadata": {},
   "source": [
    "3. now let us check the relative diffrence in avrage order size between a and b  "
   ]
  },
  {
   "cell_type": "code",
   "execution_count": 22,
   "metadata": {},
   "outputs": [
    {
     "data": {
      "text/plain": [
       "<matplotlib.lines.Line2D at 0x7f7611628490>"
      ]
     },
     "execution_count": 22,
     "metadata": {},
     "output_type": "execute_result"
    },
    {
     "data": {
      "image/png": "[encoded data removed]",
      "text/plain": [
       "<Figure size 1440x1080 with 1 Axes>"
      ]
     },
     "metadata": {
      "needs_background": "light"
     },
     "output_type": "display_data"
    }
   ],
   "source": [
    "mergecr = cra.merge(crb, left_on='date', right_on='date', how='left', suffixes=['A', 'B'])\n",
    "\n",
    "plt.figure(figsize=(20,15))\n",
    "plt.plot(mergecr['date'], (mergecr['revenueB']/mergecr['transactionIdB'])/(mergecr['revenueA']/mergecr['transactionIdA'])-1)\n",
    "plt.title('relative convrsion')\n",
    "plt.axhline(y=0, color='black', linestyle='--')"
   ]
  },
  {
   "cell_type": "markdown",
   "metadata": {},
   "source": [
    "the diffrence between A and B is preaty big for most of the time and it only increases. it seems like the change is good for buisness but the line in the graph is stating to come down so what will happen if we go on with the test? will it increase or stay stable? i think a month is a lot for a test and we see the diffrence that was influance on group b"
   ]
  },
  {
   "cell_type": "markdown",
   "metadata": {},
   "source": [
    "4. now let plot the convertion rate for each group"
   ]
  },
  {
   "cell_type": "code",
   "execution_count": 23,
   "metadata": {},
   "outputs": [
    {
     "data": {
      "text/plain": [
       "<matplotlib.legend.Legend at 0x7f7611545550>"
      ]
     },
     "execution_count": 23,
     "metadata": {},
     "output_type": "execute_result"
    },
    {
     "data": {
      "image/png": "[encoded data removed]",
      "text/plain": [
       "<Figure size 1152x720 with 1 Axes>"
      ]
     },
     "metadata": {
      "needs_background": "light"
     },
     "output_type": "display_data"
    }
   ],
   "source": [
    "cumd['conversion'] = cumd['transactionId']/cumd['visits']\n",
    "cumda = cumd[cumd['group']=='A']\n",
    "cumdb = cumd[cumd['group']=='B']\n",
    "\n",
    "plt.figure(figsize=(16,10))\n",
    "plt.title('convetion')\n",
    "plt.xlabel('date')\n",
    "plt.ylabel('convertion')\n",
    "plt.plot(cumda['date'], cumda['conversion'], label='A')\n",
    "plt.plot(cumdb['date'], cumdb['conversion'], label='B')\n",
    "plt.legend()\n",
    "\n"
   ]
  },
  {
   "cell_type": "markdown",
   "metadata": {},
   "source": [
    "we learn from the graph that it takes between 2 and 4 days to convert, group A stats high and takes a peak but as time goes on it drops drastically. group B starts to convert from a lower point and has a big peak and drop in the first 4 days but then it climbes up fast and keeps it for the rest of the test period. another thing we can see is that the shape of the convetion line looks the same but in a diffrent hight so we can say that the convetion rate is stabled on it is better on group B.  "
   ]
  },
  {
   "cell_type": "code",
   "execution_count": 24,
   "metadata": {},
   "outputs": [
    {
     "name": "stderr",
     "output_type": "stream",
     "text": [
      "No handles with labels found to put in legend.\n"
     ]
    },
    {
     "data": {
      "text/plain": [
       "<matplotlib.lines.Line2D at 0x7f76114ffdf0>"
      ]
     },
     "execution_count": 24,
     "metadata": {},
     "output_type": "execute_result"
    },
    {
     "data": {
      "image/png": "[encoded data removed]",
      "text/plain": [
       "<Figure size 1152x720 with 1 Axes>"
      ]
     },
     "metadata": {
      "needs_background": "light"
     },
     "output_type": "display_data"
    }
   ],
   "source": [
    "mcc = cumda[['date','conversion']].merge(cumdb[['date','conversion']], left_on='date', right_on='date', how='left', suffixes=['A', 'B'])\n",
    "plt.figure(figsize=(16,10))\n",
    "plt.plot(mcc['date'], mcc['conversionB']/mcc['conversionA']-1)\n",
    "plt.legend()\n",
    "plt.title('relative conversion')\n",
    "plt.xlabel('day')\n",
    "plt.ylabel('relative conversion')\n",
    "plt.axhline(y=0, color='black', linestyle='--')\n",
    "plt.axhline(y=-0.1, color='grey', linestyle='--')\n",
    "\n"
   ]
  },
  {
   "cell_type": "markdown",
   "metadata": {},
   "source": [
    "now we checked the relative conversion ratio between groups A and B we see that group B is getting far away from group A. this is possible and we see it hapen but is there no outliers or some unusual case here because if not the test could be finished and we can say that group B is a great succes "
   ]
  },
  {
   "cell_type": "markdown",
   "metadata": {},
   "source": [
    "5. now we are plotting a scatter for number of orders per user\n",
    "at first we make a table of user and order and then we showit in a scatter table"
   ]
  },
  {
   "cell_type": "code",
   "execution_count": 25,
   "metadata": {},
   "outputs": [
    {
     "data": {
      "image/png": "[encoded data removed]",
      "text/plain": [
       "<Figure size 432x288 with 1 Axes>"
      ]
     },
     "metadata": {
      "needs_background": "light"
     },
     "output_type": "display_data"
    }
   ],
   "source": [
    "orderperuser = (\n",
    "    cumd.drop(['group', 'revenue', 'date'], axis=1)\n",
    "    .groupby('visitorId', as_index=False)\n",
    "    .agg({'transactionId': pd.Series.nunique})\n",
    ")\n",
    "orderperuser.columns = ['uid', 'orders']\n",
    "\n",
    "xsc = pd.Series(range(0,len(orderperuser)))\n",
    "plt.title('ORDERS PER USER')\n",
    "plt.xlabel('number of users')\n",
    "plt.ylabel('orders')\n",
    "plt.scatter(xsc, orderperuser['orders'])\n",
    "xsc = pd.Series(range(0,len(orderperuser)))"
   ]
  },
  {
   "cell_type": "markdown",
   "metadata": {},
   "source": [
    "we see that most of the users make 1 order and only a few make 2 orders that means that there a lot of user becuase we saw before large rates of order size  and revenue and if the users purchase only once that means there are a lot of users. or there are hugh outliers"
   ]
  },
  {
   "cell_type": "markdown",
   "metadata": {},
   "source": [
    "6. now let's find the percentile of 90,95 and 99"
   ]
  },
  {
   "cell_type": "code",
   "execution_count": 26,
   "metadata": {},
   "outputs": [
    {
     "name": "stdout",
     "output_type": "stream",
     "text": [
      "[1. 1. 2.]\n"
     ]
    }
   ],
   "source": [
    "print(np.percentile(orderperuser['orders'], [90,95,99]))"
   ]
  },
  {
   "cell_type": "markdown",
   "metadata": {},
   "source": [
    "we see that over 99 percent have only 1 purchase and only one percenrtage have 2 orders so we can decide that 2 orders are anomaly"
   ]
  },
  {
   "cell_type": "markdown",
   "metadata": {},
   "source": [
    "7. now let us find the price for each order and scatter it"
   ]
  },
  {
   "cell_type": "code",
   "execution_count": 27,
   "metadata": {},
   "outputs": [
    {
     "data": {
      "text/plain": [
       "<matplotlib.collections.PathCollection at 0x7f7611460550>"
      ]
     },
     "execution_count": 27,
     "metadata": {},
     "output_type": "execute_result"
    },
    {
     "data": {
      "image/png": "[encoded data removed]",
      "text/plain": [
       "<Figure size 432x288 with 1 Axes>"
      ]
     },
     "metadata": {
      "needs_background": "light"
     },
     "output_type": "display_data"
    }
   ],
   "source": [
    "xrs = pd.Series(range(0,len(cumd['revenue'])))\n",
    "plt.title('ORDER PRICE')\n",
    "plt.xlabel('orders')\n",
    "plt.ylabel('price')\n",
    "plt.scatter(xrs,cumd['revenue'] )"
   ]
  },
  {
   "cell_type": "markdown",
   "metadata": {},
   "source": [
    "we can learn that there are in the store diffrent items with diffrent prices that difrent pepole need so there are orders with high prices and with low prices. maybe there was a raising on prices so pepole buyed even it was expensive. there is a growing line but there is also a group of users that buy for high prices and start there. may it be a outlier? that diffrence looks a beat like the diffrences we saw with groups a and b. can we say that group b payed more or thereitems had higer prices"
   ]
  },
  {
   "cell_type": "markdown",
   "metadata": {},
   "source": [
    "8. let's find the percentile for the price per order"
   ]
  },
  {
   "cell_type": "code",
   "execution_count": 28,
   "metadata": {},
   "outputs": [
    {
     "name": "stdout",
     "output_type": "stream",
     "text": [
      "[76778.45  83641.4   91556.977]\n"
     ]
    }
   ],
   "source": [
    "print(np.percentile(cumd['revenue'], [90,95,99]))"
   ]
  },
  {
   "cell_type": "markdown",
   "metadata": {},
   "source": [
    "we see that 90% of the price per order are less then 80000 and 95% are under 85000 and only one percent is over 90000 so we can decide that over 80000 is anomaly "
   ]
  },
  {
   "cell_type": "markdown",
   "metadata": {},
   "source": [
    "9. let us find the statistical significance of the difference in conversion between the groups while using the raw data without cuting the anomalys"
   ]
  },
  {
   "cell_type": "markdown",
   "metadata": {},
   "source": [
    "let us check the hypothesis that the two group are the same.\n",
    "H0= the 3 groups have the same  statistical significancefor conversion\n",
    "H1= is the alternayive hypothesis that the 2 groups dont have the same statistical significance\n",
    "alpha= 0.05"
   ]
  },
  {
   "cell_type": "code",
   "execution_count": 29,
   "metadata": {},
   "outputs": [
    {
     "name": "stdout",
     "output_type": "stream",
     "text": [
      "0.017\n",
      "0.138\n"
     ]
    }
   ],
   "source": [
    "mccA = orders[orders['group']=='A'].groupby('visitorId', as_index=False).agg({'transactionId' : pd.Series.nunique})\n",
    "mccA.columns = ['uid', 'orders']\n",
    "\n",
    "mccB = orders[orders['group']=='B'].groupby('visitorId', as_index=False).agg({'transactionId' : pd.Series.nunique})\n",
    "mccB.columns = ['uid', 'orders']\n",
    "\n",
    "sA = pd.concat([mccA['orders'],pd.Series(0, index=np.arange(visits[visits['group']=='A']['visits'].sum() - len(mccA['orders'])), name='orders')],axis=0)\n",
    "\n",
    "sB = pd.concat([mccB['orders'],pd.Series(0, index=np.arange(visits[visits['group']=='B']['visits'].sum() - len(mccB['orders'])), name='orders')],axis=0)\n",
    "\n",
    "print(\"{0:.3f}\".format(stats.mannwhitneyu(sA, sB)[1]))\n",
    "\n",
    "print(\"{0:.3f}\".format(sB.mean()/sA.mean()-1))"
   ]
  },
  {
   "cell_type": "markdown",
   "metadata": {},
   "source": [
    "we see that the p-value is smaller then 0.05 so we can not reject our hypothesis that the two groups are the same statistical significance. group A and group B look as the same distribution so the results of the test dont depend on the changes in the groups but they take changes because the test so the results should be reallyable. i chose the mannwhitneyu test because it is the right test for 2 groups that there distibution is not the same"
   ]
  },
  {
   "cell_type": "markdown",
   "metadata": {},
   "source": [
    "10. now let's find the statistical significance of the difference in average order size between the two groups "
   ]
  },
  {
   "cell_type": "markdown",
   "metadata": {},
   "source": [
    "our next hypothesis is\n",
    "H0= the null hypothesis that the 2 groups have the same statistical significance on avg order size\n",
    "H1(alternative)= the 2 groups are not the same for statistical significance \n",
    "alpha=0.05"
   ]
  },
  {
   "cell_type": "code",
   "execution_count": 30,
   "metadata": {},
   "outputs": [
    {
     "name": "stdout",
     "output_type": "stream",
     "text": [
      "0.692\n",
      "0.252\n"
     ]
    }
   ],
   "source": [
    "print('{0:.3f}'.format(stats.mannwhitneyu(orders[orders['group']=='A']['revenue'], orders[orders['group']=='B']['revenue'])[1]))\n",
    "print('{0:.3f}'.format(orders[orders['group']=='B']['revenue'].mean()/orders[orders['group']=='A']['revenue'].mean()-1))"
   ]
  },
  {
   "cell_type": "markdown",
   "metadata": {},
   "source": [
    "when we get this statistical number of p-value we can understand the graph we saw before of avrage order size. the diffrence between the groups is 0.69 when we are targeting less then 0.05 so here we must reject the hypothesis that the groups statistocal significance is the same. just remmember that this is raw data with outliers so we should filter tha data and then check it again.\n",
    "here again i choosed mannwhitnyu test because the distribution of the groups are not the same"
   ]
  },
  {
   "cell_type": "markdown",
   "metadata": {},
   "source": [
    "11. now we will find the statistical significance of conversion on the filterd data\n",
    "we start with makink an abnormal table and then we will remove it from the raw data"
   ]
  },
  {
   "cell_type": "code",
   "execution_count": 31,
   "metadata": {},
   "outputs": [
    {
     "name": "stdout",
     "output_type": "stream",
     "text": [
      "18    199603092\n",
      "23    237748145\n",
      "37    249864742\n",
      "42    366673373\n",
      "56    393266494\n",
      "dtype: int64\n",
      "(59,)\n"
     ]
    }
   ],
   "source": [
    "uwmo = pd.concat([mccA[mccA['orders'] >= 2]['uid'], mccB[mccB['orders'] >= 2]['uid']], axis = 0)\n",
    "uexo = orders[orders['revenue'] > 80000]['visitorId']\n",
    "abnormalUsers = pd.concat([uwmo, uexo], axis = 0).drop_duplicates().sort_values()\n",
    "print(abnormalUsers.head())\n",
    "print(abnormalUsers.shape)"
   ]
  },
  {
   "cell_type": "markdown",
   "metadata": {},
   "source": [
    "we see we have 59 outliers in the abnormal table"
   ]
  },
  {
   "cell_type": "markdown",
   "metadata": {},
   "source": [
    "here the hypothesis is same as in the raw data just on the filterd data so \n",
    "H0= groups are equal\n",
    "H1=gruops are diffrent\n",
    "alpha=0.05"
   ]
  },
  {
   "cell_type": "code",
   "execution_count": 32,
   "metadata": {},
   "outputs": [
    {
     "name": "stdout",
     "output_type": "stream",
     "text": [
      "0.013\n",
      "0.168\n"
     ]
    }
   ],
   "source": [
    "sAFilter = pd.concat([mccA[np.logical_not(mccA['uid'].isin(abnormalUsers))]['orders'],pd.Series(0, index=np.arange(visits[visits['group']=='A']['visits'].sum() - len(mccA['orders'])),name='orders')],axis=0)\n",
    "sBFilter = pd.concat([mccB[np.logical_not(mccB['uid'].isin(abnormalUsers))]['orders'],pd.Series(0, index=np.arange(visits[visits['group']=='B']['visits'].sum() - len(mccB['orders'])),name='orders')],axis=0)\n",
    "print(\"{0:.3f}\".format(stats.mannwhitneyu(sAFilter, sBFilter)[1]))\n",
    "print(\"{0:.3f}\".format(sBFilter.mean()/sAFilter.mean()-1))\n"
   ]
  },
  {
   "cell_type": "markdown",
   "metadata": {},
   "source": [
    "we see here that in conversion stats we dont have a big diffrence and we still are under 0.05 so in the conversion case there was'nt a big influance of the outliers on the statistics"
   ]
  },
  {
   "cell_type": "markdown",
   "metadata": {},
   "source": [
    "12. now we will check the statistical significance of the difference in average order size on the filters data"
   ]
  },
  {
   "cell_type": "markdown",
   "metadata": {},
   "source": [
    "here the hypothesis is same as in the raw data just on the filterd data so \n",
    "H0= groups are equal\n",
    "H1=gruops are diffrent\n",
    "alpha=0.05"
   ]
  },
  {
   "cell_type": "code",
   "execution_count": 33,
   "metadata": {},
   "outputs": [
    {
     "name": "stdout",
     "output_type": "stream",
     "text": [
      "0.886\n",
      "0.277\n"
     ]
    }
   ],
   "source": [
    "print('{0:.3f}'.format(stats.mannwhitneyu(orders[np.logical_and(\n",
    "        orders['group']=='A',\n",
    "        np.logical_not(orders['visitorId'].isin(abnormalUsers)))]['revenue'],\n",
    "    orders[np.logical_and(\n",
    "        orders['group']=='B',\n",
    "        np.logical_not(orders['visitorId'].isin(abnormalUsers)))]['revenue'])[1]))\n",
    "\n",
    "print('{0:.3f}'.format(\n",
    "    orders[np.logical_and(orders['group']=='B',np.logical_not(orders['visitorId'].isin(abnormalUsers)))]['revenue'].mean()/\n",
    "    orders[np.logical_and(\n",
    "        orders['group']=='A',\n",
    "        np.logical_not(orders['visitorId'].isin(abnormalUsers)))]['revenue'].mean() - 1))"
   ]
  },
  {
   "cell_type": "markdown",
   "metadata": {},
   "source": [
    "after filtering the data from the abnormal data we see that the statistical significance for the avrage order size got bigger then the raw data. we could say that the core of the group b is not the same  as group a even when we loss all the outliers. "
   ]
  },
  {
   "cell_type": "markdown",
   "metadata": {},
   "source": [
    "13. ##  conclusion\n",
    "after we analyzed the test result we saw a consistently advantage to group B. after cheking conversion and order size revenue and the relative between the two groups we can absolutely say that we can stop the test and 4 weeks are defently anogh. the leading groupin big time is group B so we can even say that our hypothesis was right and we can perform the change we tested"
   ]
  }
 ],
 "metadata": {
  "ExecuteTimeLog": [
   {
    "duration": 1759,
    "start_time": "2022-04-18T20:19:35.903Z"
   },
   {
    "duration": 32,
    "start_time": "2022-04-18T20:21:54.220Z"
   },
   {
    "duration": 17,
    "start_time": "2022-04-18T20:22:13.320Z"
   },
   {
    "duration": 675,
    "start_time": "2022-04-18T20:22:56.774Z"
   },
   {
    "duration": 21,
    "start_time": "2022-04-18T20:23:32.873Z"
   },
   {
    "duration": 39,
    "start_time": "2022-04-18T20:38:10.610Z"
   },
   {
    "duration": 1857,
    "start_time": "2022-04-18T20:39:45.297Z"
   },
   {
    "duration": 35,
    "start_time": "2022-04-18T20:56:36.425Z"
   },
   {
    "duration": 17,
    "start_time": "2022-04-18T20:57:41.981Z"
   },
   {
    "duration": 6,
    "start_time": "2022-04-18T20:58:35.468Z"
   },
   {
    "duration": 7,
    "start_time": "2022-04-18T21:07:50.501Z"
   },
   {
    "duration": 17,
    "start_time": "2022-04-18T21:08:56.603Z"
   },
   {
    "duration": 18,
    "start_time": "2022-04-18T21:17:50.982Z"
   },
   {
    "duration": 66,
    "start_time": "2022-04-18T21:38:28.095Z"
   },
   {
    "duration": 8,
    "start_time": "2022-04-18T21:38:42.722Z"
   },
   {
    "duration": 39,
    "start_time": "2022-04-18T21:39:04.689Z"
   },
   {
    "duration": 13,
    "start_time": "2022-04-18T21:39:06.758Z"
   },
   {
    "duration": 22,
    "start_time": "2022-04-18T21:39:42.574Z"
   },
   {
    "duration": 48,
    "start_time": "2022-04-19T09:46:14.316Z"
   },
   {
    "duration": 412,
    "start_time": "2022-04-19T09:46:32.193Z"
   },
   {
    "duration": 44,
    "start_time": "2022-04-19T09:46:32.608Z"
   },
   {
    "duration": 10,
    "start_time": "2022-04-19T09:46:32.654Z"
   },
   {
    "duration": 6,
    "start_time": "2022-04-19T09:46:32.666Z"
   },
   {
    "duration": 13,
    "start_time": "2022-04-19T09:46:32.673Z"
   },
   {
    "duration": 21,
    "start_time": "2022-04-19T09:46:32.687Z"
   },
   {
    "duration": 79,
    "start_time": "2022-04-19T09:46:32.710Z"
   },
   {
    "duration": 8,
    "start_time": "2022-04-19T09:46:32.791Z"
   },
   {
    "duration": 11,
    "start_time": "2022-04-19T09:46:32.801Z"
   },
   {
    "duration": 6,
    "start_time": "2022-04-19T09:46:32.814Z"
   },
   {
    "duration": 6,
    "start_time": "2022-04-19T09:46:43.448Z"
   },
   {
    "duration": 3,
    "start_time": "2022-04-19T09:53:46.363Z"
   },
   {
    "duration": 32,
    "start_time": "2022-04-19T10:02:06.215Z"
   },
   {
    "duration": 11,
    "start_time": "2022-04-19T10:02:15.905Z"
   },
   {
    "duration": 8,
    "start_time": "2022-04-19T10:03:11.310Z"
   },
   {
    "duration": 10,
    "start_time": "2022-04-19T10:03:41.230Z"
   },
   {
    "duration": 6,
    "start_time": "2022-04-19T10:04:12.162Z"
   },
   {
    "duration": 6,
    "start_time": "2022-04-19T10:04:38.759Z"
   },
   {
    "duration": 28,
    "start_time": "2022-04-19T10:09:53.225Z"
   },
   {
    "duration": 8,
    "start_time": "2022-04-19T10:10:14.685Z"
   },
   {
    "duration": 2,
    "start_time": "2022-04-19T10:10:45.121Z"
   },
   {
    "duration": 8,
    "start_time": "2022-04-19T10:13:29.059Z"
   },
   {
    "duration": 6,
    "start_time": "2022-04-19T10:15:38.685Z"
   },
   {
    "duration": 23,
    "start_time": "2022-04-19T10:16:42.468Z"
   },
   {
    "duration": 175,
    "start_time": "2022-04-19T10:18:09.791Z"
   },
   {
    "duration": 108,
    "start_time": "2022-04-19T10:25:29.823Z"
   },
   {
    "duration": 6,
    "start_time": "2022-04-19T10:28:39.906Z"
   },
   {
    "duration": 109,
    "start_time": "2022-04-19T10:29:01.573Z"
   },
   {
    "duration": 13,
    "start_time": "2022-04-19T10:29:03.130Z"
   },
   {
    "duration": 387,
    "start_time": "2022-04-19T10:31:11.849Z"
   },
   {
    "duration": 240,
    "start_time": "2022-04-19T10:34:28.286Z"
   },
   {
    "duration": 253,
    "start_time": "2022-04-19T10:42:37.348Z"
   },
   {
    "duration": 289,
    "start_time": "2022-04-19T10:46:46.928Z"
   },
   {
    "duration": 1403,
    "start_time": "2022-04-19T10:57:38.496Z"
   },
   {
    "duration": 286,
    "start_time": "2022-04-19T10:58:29.381Z"
   },
   {
    "duration": 14,
    "start_time": "2022-04-19T13:14:18.986Z"
   },
   {
    "duration": 349,
    "start_time": "2022-04-19T13:14:36.480Z"
   },
   {
    "duration": 363,
    "start_time": "2022-04-19T13:15:29.728Z"
   },
   {
    "duration": 223,
    "start_time": "2022-04-19T13:29:04.954Z"
   },
   {
    "duration": 196,
    "start_time": "2022-04-19T13:29:44.119Z"
   },
   {
    "duration": 14,
    "start_time": "2022-04-19T13:36:02.195Z"
   },
   {
    "duration": 13,
    "start_time": "2022-04-19T13:36:26.313Z"
   },
   {
    "duration": 303,
    "start_time": "2022-04-19T13:36:41.032Z"
   },
   {
    "duration": 265,
    "start_time": "2022-04-19T13:39:28.883Z"
   },
   {
    "duration": 9,
    "start_time": "2022-04-19T13:59:40.247Z"
   },
   {
    "duration": 425,
    "start_time": "2022-04-19T14:00:01.701Z"
   },
   {
    "duration": 436,
    "start_time": "2022-04-19T14:03:15.193Z"
   },
   {
    "duration": 403,
    "start_time": "2022-04-19T14:03:44.263Z"
   },
   {
    "duration": 114,
    "start_time": "2022-04-19T14:04:37.826Z"
   },
   {
    "duration": 55,
    "start_time": "2022-04-19T14:05:49.552Z"
   },
   {
    "duration": 194,
    "start_time": "2022-04-19T14:08:07.779Z"
   },
   {
    "duration": 289,
    "start_time": "2022-04-19T14:11:44.405Z"
   },
   {
    "duration": 14,
    "start_time": "2022-04-19T14:12:53.275Z"
   },
   {
    "duration": 355,
    "start_time": "2022-04-19T14:13:13.290Z"
   },
   {
    "duration": 370,
    "start_time": "2022-04-19T14:15:33.388Z"
   },
   {
    "duration": 284,
    "start_time": "2022-04-19T14:26:47.989Z"
   },
   {
    "duration": 26,
    "start_time": "2022-04-19T14:27:34.563Z"
   },
   {
    "duration": 14,
    "start_time": "2022-04-19T14:27:36.566Z"
   },
   {
    "duration": 11,
    "start_time": "2022-04-19T14:27:42.541Z"
   },
   {
    "duration": 10,
    "start_time": "2022-04-19T14:27:58.039Z"
   },
   {
    "duration": 258,
    "start_time": "2022-04-19T14:28:20.322Z"
   },
   {
    "duration": 361,
    "start_time": "2022-04-19T14:31:06.630Z"
   },
   {
    "duration": 265,
    "start_time": "2022-04-19T14:35:17.010Z"
   },
   {
    "duration": 258,
    "start_time": "2022-04-19T14:35:37.404Z"
   },
   {
    "duration": 250,
    "start_time": "2022-04-19T14:35:45.915Z"
   },
   {
    "duration": 10,
    "start_time": "2022-04-19T14:43:55.713Z"
   },
   {
    "duration": 210,
    "start_time": "2022-04-19T14:46:37.682Z"
   },
   {
    "duration": 136,
    "start_time": "2022-04-19T14:50:03.363Z"
   },
   {
    "duration": 4,
    "start_time": "2022-04-19T14:58:05.937Z"
   },
   {
    "duration": 119,
    "start_time": "2022-04-19T15:04:54.548Z"
   },
   {
    "duration": 127,
    "start_time": "2022-04-19T15:06:09.097Z"
   },
   {
    "duration": 5,
    "start_time": "2022-04-19T15:17:00.176Z"
   },
   {
    "duration": 122,
    "start_time": "2022-04-19T15:17:34.558Z"
   },
   {
    "duration": 8,
    "start_time": "2022-04-19T15:29:11.429Z"
   },
   {
    "duration": 71,
    "start_time": "2022-04-19T15:35:35.864Z"
   },
   {
    "duration": 130,
    "start_time": "2022-04-19T15:35:58.257Z"
   },
   {
    "duration": 409,
    "start_time": "2022-04-19T15:36:39.490Z"
   },
   {
    "duration": 134,
    "start_time": "2022-04-19T15:37:01.379Z"
   },
   {
    "duration": 11,
    "start_time": "2022-04-19T16:07:39.089Z"
   },
   {
    "duration": 346,
    "start_time": "2022-04-19T16:11:25.843Z"
   },
   {
    "duration": 349,
    "start_time": "2022-04-19T16:11:45.371Z"
   },
   {
    "duration": 1056,
    "start_time": "2022-04-19T16:26:01.583Z"
   },
   {
    "duration": 1066,
    "start_time": "2022-04-19T16:27:12.249Z"
   },
   {
    "duration": 1043,
    "start_time": "2022-04-19T16:28:59.155Z"
   },
   {
    "duration": 8,
    "start_time": "2022-04-19T16:29:44.104Z"
   },
   {
    "duration": 1028,
    "start_time": "2022-04-19T16:33:24.389Z"
   },
   {
    "duration": 8,
    "start_time": "2022-04-19T16:33:35.971Z"
   },
   {
    "duration": 29,
    "start_time": "2022-04-19T16:35:17.076Z"
   },
   {
    "duration": 21,
    "start_time": "2022-04-19T17:35:12.157Z"
   },
   {
    "duration": 341,
    "start_time": "2022-04-19T17:47:08.823Z"
   },
   {
    "duration": 253,
    "start_time": "2022-04-19T17:47:50.524Z"
   },
   {
    "duration": 1260,
    "start_time": "2022-04-19T19:14:57.068Z"
   },
   {
    "duration": 19,
    "start_time": "2022-04-19T19:14:58.331Z"
   },
   {
    "duration": 11,
    "start_time": "2022-04-19T19:14:58.352Z"
   },
   {
    "duration": 6,
    "start_time": "2022-04-19T19:14:58.365Z"
   },
   {
    "duration": 15,
    "start_time": "2022-04-19T19:14:58.374Z"
   },
   {
    "duration": 17,
    "start_time": "2022-04-19T19:14:58.391Z"
   },
   {
    "duration": 48,
    "start_time": "2022-04-19T19:14:58.410Z"
   },
   {
    "duration": 22,
    "start_time": "2022-04-19T19:14:58.460Z"
   },
   {
    "duration": 14,
    "start_time": "2022-04-19T19:14:58.485Z"
   },
   {
    "duration": 19,
    "start_time": "2022-04-19T19:14:58.501Z"
   },
   {
    "duration": 8,
    "start_time": "2022-04-19T19:14:58.522Z"
   },
   {
    "duration": 8,
    "start_time": "2022-04-19T19:14:58.547Z"
   },
   {
    "duration": 12,
    "start_time": "2022-04-19T19:14:58.557Z"
   },
   {
    "duration": 9,
    "start_time": "2022-04-19T19:14:58.573Z"
   },
   {
    "duration": 7,
    "start_time": "2022-04-19T19:14:58.583Z"
   },
   {
    "duration": 8,
    "start_time": "2022-04-19T19:14:58.592Z"
   },
   {
    "duration": 306,
    "start_time": "2022-04-19T19:14:58.602Z"
   },
   {
    "duration": 186,
    "start_time": "2022-04-19T19:14:58.910Z"
   },
   {
    "duration": 17,
    "start_time": "2022-04-19T19:14:59.098Z"
   },
   {
    "duration": 358,
    "start_time": "2022-04-19T19:14:59.117Z"
   },
   {
    "duration": 311,
    "start_time": "2022-04-19T19:14:59.477Z"
   },
   {
    "duration": 371,
    "start_time": "2022-04-19T19:14:59.790Z"
   },
   {
    "duration": 244,
    "start_time": "2022-04-19T19:15:00.163Z"
   },
   {
    "duration": 356,
    "start_time": "2022-04-19T19:15:00.409Z"
   },
   {
    "duration": 139,
    "start_time": "2022-04-19T19:15:00.767Z"
   },
   {
    "duration": 5,
    "start_time": "2022-04-19T19:15:00.907Z"
   },
   {
    "duration": 136,
    "start_time": "2022-04-19T19:15:00.914Z"
   },
   {
    "duration": 4,
    "start_time": "2022-04-19T19:15:01.052Z"
   },
   {
    "duration": 178,
    "start_time": "2022-04-19T19:15:01.058Z"
   },
   {
    "duration": 11,
    "start_time": "2022-04-19T19:15:01.248Z"
   },
   {
    "duration": 13,
    "start_time": "2022-04-19T19:15:01.261Z"
   },
   {
    "duration": 28,
    "start_time": "2022-04-19T19:15:01.276Z"
   },
   {
    "duration": 42,
    "start_time": "2022-04-19T19:15:01.306Z"
   },
   {
    "duration": 76,
    "start_time": "2022-04-20T10:33:38.106Z"
   },
   {
    "duration": 1766,
    "start_time": "2022-04-20T10:33:43.784Z"
   },
   {
    "duration": 41,
    "start_time": "2022-04-20T10:33:45.553Z"
   },
   {
    "duration": 16,
    "start_time": "2022-04-20T10:33:45.597Z"
   },
   {
    "duration": 18,
    "start_time": "2022-04-20T10:33:45.629Z"
   },
   {
    "duration": 38,
    "start_time": "2022-04-20T10:33:45.649Z"
   },
   {
    "duration": 18,
    "start_time": "2022-04-20T10:33:45.690Z"
   },
   {
    "duration": 29,
    "start_time": "2022-04-20T10:33:45.710Z"
   },
   {
    "duration": 4,
    "start_time": "2022-04-20T10:34:12.157Z"
   },
   {
    "duration": 6,
    "start_time": "2022-04-20T10:35:04.722Z"
   }
  ],
  "kernelspec": {
   "display_name": "Python 3 (ipykernel)",
   "language": "python",
   "name": "python3"
  },
  "language_info": {
   "codemirror_mode": {
    "name": "ipython",
    "version": 3
   },
   "file_extension": ".py",
   "mimetype": "text/x-python",
   "name": "python",
   "nbconvert_exporter": "python",
   "pygments_lexer": "ipython3",
   "version": "3.9.7"
  },
  "toc": {
   "base_numbering": 1,
   "nav_menu": {},
   "number_sections": true,
   "sideBar": true,
   "skip_h1_title": true,
   "title_cell": "Table of Contents",
   "title_sidebar": "Contents",
   "toc_cell": false,
   "toc_position": {},
   "toc_section_display": true,
   "toc_window_display": false
  }
 },
 "nbformat": 4,
 "nbformat_minor": 2
}
